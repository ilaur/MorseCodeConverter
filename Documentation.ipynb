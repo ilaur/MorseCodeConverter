{
 "cells": [
  {
   "cell_type": "markdown",
   "id": "d3ac4fd5-95e8-4fd2-ab53-b3a0254991f8",
   "metadata": {},
   "source": [
    "# Objective: Morse Code\n",
    "\n",
    "---\n",
    "\n",
    "Make a script that coverts a given input String into Morse Code.\n",
    "Morse Code from a String input is a text encoding.\n",
    "A Morse Code is a binary sequence made up of dots and dashes.\n",
    "The application covers the International Morse Code.\n",
    "\n",
    "---\n",
    "\n",
    "## Requirements\n",
    "\n",
    "- The user input will have a maximum defined length of the message.\n",
    "- The input will be sanitized to contain only letters A-Z, a-z and numbers 0-9 (is alphanumberic).\n",
    "- The application should close when the special command `/exit` is received.\n",
    "- The output should appear as a squence of `.` and `-`. "
   ]
  }
 ],
 "metadata": {
  "kernelspec": {
   "display_name": "Python 3 (ipykernel)",
   "language": "python",
   "name": "python3"
  },
  "language_info": {
   "codemirror_mode": {
    "name": "ipython",
    "version": 3
   },
   "file_extension": ".py",
   "mimetype": "text/x-python",
   "name": "python",
   "nbconvert_exporter": "python",
   "pygments_lexer": "ipython3",
   "version": "3.9.6"
  }
 },
 "nbformat": 4,
 "nbformat_minor": 5
}
